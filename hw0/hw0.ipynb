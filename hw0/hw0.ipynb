{
 "cells": [
  {
   "cell_type": "code",
   "execution_count": 1,
   "id": "f7e695f6",
   "metadata": {},
   "outputs": [],
   "source": [
    "import numpy as np\n",
    "import pandas as pd\n",
    "import matplotlib.pyplot as plt\n",
    "import tensorflow as tf\n",
    "from tensorflow.keras import layers\n",
    "import os\n",
    "import pickle"
   ]
  },
  {
   "cell_type": "code",
   "execution_count": 2,
   "id": "935624de",
   "metadata": {},
   "outputs": [],
   "source": [
    "# Shell command to check GPU usage: nvidia-smi\n",
    "# Execute if you do not want the GPU to be used:\n",
    "os.environ[\"CUDA_VISIBLE_DEVICES\"] = \"-1\""
   ]
  },
  {
   "cell_type": "code",
   "execution_count": 3,
   "id": "52724edc",
   "metadata": {},
   "outputs": [],
   "source": [
    "fp = open(\"hw0_dataset.pkl\", \"rb\")\n",
    "foo = pickle.load(fp)\n",
    "fp.close()"
   ]
  },
  {
   "cell_type": "markdown",
   "id": "05b2a8ec",
   "metadata": {},
   "source": [
    "### what is foo?"
   ]
  },
  {
   "cell_type": "code",
   "execution_count": 4,
   "id": "9b1124b0",
   "metadata": {},
   "outputs": [
    {
     "data": {
      "text/plain": [
       "{'ins': array([[ 1., -1., -1., ...,  1.,  1., -1.],\n",
       "        [-1., -1.,  1., ...,  1., -1., -1.],\n",
       "        [ 1., -1.,  1., ...,  1., -1.,  1.],\n",
       "        ...,\n",
       "        [ 1., -1., -1., ...,  1., -1., -1.],\n",
       "        [ 1., -1.,  1., ...,  1., -1., -1.],\n",
       "        [ 1.,  1.,  1., ...,  1.,  1.,  1.]]),\n",
       " 'outs': array([[-1.],\n",
       "        [ 1.],\n",
       "        [ 1.],\n",
       "        ...,\n",
       "        [-1.],\n",
       "        [-1.],\n",
       "        [ 1.]])}"
      ]
     },
     "execution_count": 4,
     "metadata": {},
     "output_type": "execute_result"
    }
   ],
   "source": [
    "foo"
   ]
  },
  {
   "cell_type": "markdown",
   "id": "1ac00496",
   "metadata": {},
   "source": [
    "foo is a dictionary.\n",
    "let's assign the contents to variables."
   ]
  },
  {
   "cell_type": "code",
   "execution_count": 5,
   "id": "acbc42ea",
   "metadata": {},
   "outputs": [],
   "source": [
    "ins = foo['ins']\n",
    "outs = foo['outs']"
   ]
  },
  {
   "cell_type": "code",
   "execution_count": 6,
   "id": "a6729af7",
   "metadata": {
    "scrolled": true
   },
   "outputs": [
    {
     "name": "stdout",
     "output_type": "stream",
     "text": [
      "(1024, 10) (1024, 1)\n"
     ]
    }
   ],
   "source": [
    "print(ins.shape, outs.shape)"
   ]
  },
  {
   "cell_type": "code",
   "execution_count": 7,
   "id": "acdfbaac",
   "metadata": {},
   "outputs": [
    {
     "name": "stdout",
     "output_type": "stream",
     "text": [
      "-1.0 [-1.]\n",
      "0.0 [1.]\n",
      "0.0 [1.]\n",
      "0.0 [1.]\n",
      "-1.0 [-1.]\n",
      "-3.0 [-1.]\n",
      "2.0 [1.]\n",
      "-2.0 [1.]\n",
      "0.0 [1.]\n",
      "-2.0 [1.]\n"
     ]
    }
   ],
   "source": [
    "for i in range(0,10):\n",
    "    print(sum(ins[i])/2, outs[i])"
   ]
  },
  {
   "cell_type": "markdown",
   "id": "2a72128f",
   "metadata": {},
   "source": [
    "the desired function seems to output +1 if the sum(inputs)/2 is even, and -1 when odd"
   ]
  },
  {
   "cell_type": "code",
   "execution_count": 8,
   "id": "76832b29",
   "metadata": {},
   "outputs": [],
   "source": [
    "def build_model(n_inputs, n_hidden, n_output, activation='relu', lrate=0.001):\n",
    "    '''\n",
    "    Build a simple dense model\n",
    "    \n",
    "    :param n_inputs: Number of input dimensions\n",
    "    :param n_hidden: Number of units in the hidden layer\n",
    "    :param n_output: Number of ouptut dimensions\n",
    "    :param activation: Activation function to be used for hidden and output units\n",
    "    :param lrate: Learning rate for Adam Optimizer\n",
    "    '''\n",
    "    # Simple sequential model\n",
    "    model = tf.keras.Sequential()\n",
    "    \n",
    "    # Input layer\n",
    "    model.add(layers.InputLayer(input_shape=(n_inputs,)))\n",
    "    \n",
    "    # Hidden layers\n",
    "    model.add(layers.Dense(n_hidden, use_bias=True, name='hidden1', activation=activation))\n",
    "    model.add(layers.Dense(n_hidden, use_bias=True, name='hidden2', activation=activation))\n",
    "    \n",
    "    # Output layer\n",
    "    model.add(layers.Dense(n_output, use_bias=False, name='output', activation='tanh'))\n",
    "    \n",
    "    # My favorite optimizer\n",
    "    opt = tf.keras.optimizers.Adam(learning_rate=lrate)\n",
    "    \n",
    "    # Compile the model.  Mean squared error loss\n",
    "    model.compile(loss='mse', optimizer=opt)\n",
    "    \n",
    "    # Display the network\n",
    "    print(model.summary())\n",
    "    \n",
    "    return model"
   ]
  },
  {
   "cell_type": "code",
   "execution_count": 9,
   "id": "cbd8fa0c",
   "metadata": {
    "scrolled": true
   },
   "outputs": [
    {
     "name": "stdout",
     "output_type": "stream",
     "text": [
      "Model: \"sequential\"\n",
      "_________________________________________________________________\n",
      " Layer (type)                Output Shape              Param #   \n",
      "=================================================================\n",
      " hidden1 (Dense)             (None, 10)                110       \n",
      "                                                                 \n",
      " hidden2 (Dense)             (None, 10)                110       \n",
      "                                                                 \n",
      " output (Dense)              (None, 1)                 10        \n",
      "                                                                 \n",
      "=================================================================\n",
      "Total params: 230\n",
      "Trainable params: 230\n",
      "Non-trainable params: 0\n",
      "_________________________________________________________________\n",
      "None\n"
     ]
    }
   ],
   "source": [
    "model = build_model(ins.shape[1], 10, outs.shape[1], activation=tf.math.sin)"
   ]
  },
  {
   "cell_type": "code",
   "execution_count": 10,
   "id": "22aa4656",
   "metadata": {
    "scrolled": false
   },
   "outputs": [],
   "source": [
    "# Training\n",
    "history = model.fit(x=ins, y=outs, epochs=1000, verbose=False)"
   ]
  },
  {
   "cell_type": "code",
   "execution_count": 11,
   "id": "68620f76",
   "metadata": {},
   "outputs": [
    {
     "data": {
      "text/plain": [
       "Text(0.5, 0, 'epochs')"
      ]
     },
     "execution_count": 11,
     "metadata": {},
     "output_type": "execute_result"
    },
    {
     "data": {
      "image/png": "[encoded data removed]",
      "text/plain": [
       "<Figure size 640x480 with 1 Axes>"
      ]
     },
     "metadata": {},
     "output_type": "display_data"
    }
   ],
   "source": [
    "# Display learning curve\n",
    "plt.figure()\n",
    "plt.plot(history.history['loss'])\n",
    "plt.ylabel('MSE')\n",
    "plt.xlabel('epochs')"
   ]
  },
  {
   "cell_type": "code",
   "execution_count": 12,
   "id": "dd57e5de",
   "metadata": {},
   "outputs": [
    {
     "name": "stdout",
     "output_type": "stream",
     "text": [
      "32/32 [==============================] - 0s 1ms/step\n"
     ]
    },
    {
     "data": {
      "text/plain": [
       "array([[-0.9993237 ],\n",
       "       [ 0.99919546],\n",
       "       [ 0.9991107 ],\n",
       "       ...,\n",
       "       [-0.9993258 ],\n",
       "       [-0.9992891 ],\n",
       "       [ 0.9993661 ]], dtype=float32)"
      ]
     },
     "execution_count": 12,
     "metadata": {},
     "output_type": "execute_result"
    }
   ],
   "source": [
    "pred = model.predict(ins)\n",
    "pred"
   ]
  },
  {
   "cell_type": "code",
   "execution_count": 13,
   "id": "5700b506",
   "metadata": {},
   "outputs": [],
   "source": [
    "errors = np.abs(pred - outs)"
   ]
  },
  {
   "cell_type": "code",
   "execution_count": 14,
   "id": "57505b0d",
   "metadata": {},
   "outputs": [
    {
     "data": {
      "text/plain": [
       "Text(0.5, 0, 'absolute error')"
      ]
     },
     "execution_count": 14,
     "metadata": {},
     "output_type": "execute_result"
    },
    {
     "data": {
      "image/png": "[encoded data removed]",
      "text/plain": [
       "<Figure size 640x480 with 1 Axes>"
      ]
     },
     "metadata": {},
     "output_type": "display_data"
    }
   ],
   "source": [
    "# Display error histogram\n",
    "plt.figure()\n",
    "plt.hist(errors, 50)\n",
    "plt.ylim([0, 50])\n",
    "plt.ylabel('count')\n",
    "plt.xlabel('absolute error')\n",
    "plt.savefig('foo.png')"
   ]
  },
  {
   "cell_type": "markdown",
   "id": "07638a85",
   "metadata": {},
   "source": [
    "Conclusion: sin must be a good activation function, so I should use it exclusively in every network I make this semester"
   ]
  },
  {
   "cell_type": "code",
   "execution_count": null,
   "id": "f4645a42",
   "metadata": {},
   "outputs": [],
   "source": []
  },
  {
   "cell_type": "markdown",
   "id": "cd023af4",
   "metadata": {},
   "source": [
    "## Supercomputer Results"
   ]
  },
  {
   "cell_type": "markdown",
   "id": "358806f0",
   "metadata": {},
   "source": [
    "The code below is a bit messy, but it just plots stuff"
   ]
  },
  {
   "cell_type": "markdown",
   "id": "6d6c959b",
   "metadata": {},
   "source": [
    "Note that the network here is different. I had to modify it so it would work more consistantly.\\\n",
    "I think I added another layer and increased the learning rate."
   ]
  },
  {
   "cell_type": "code",
   "execution_count": 1,
   "id": "52ddbc54",
   "metadata": {},
   "outputs": [
    {
     "data": {
      "image/png": "[encoded data removed]",
      "text/plain": [
       "<Figure size 640x480 with 1 Axes>"
      ]
     },
     "metadata": {},
     "output_type": "display_data"
    },
    {
     "data": {
      "image/png": "[encoded data removed]",
      "text/plain": [
       "<Figure size 640x480 with 1 Axes>"
      ]
     },
     "metadata": {},
     "output_type": "display_data"
    }
   ],
   "source": [
    "import numpy as np\n",
    "import matplotlib.pyplot as plt\n",
    "import pickle\n",
    "\n",
    "errors = np.array([]) # accumulates the errors for our histogram\n",
    "\n",
    "with open(\"hw0_dataset.pkl\", \"rb\") as fp:\n",
    "    outs = pickle.load(fp)['outs']\n",
    "\n",
    "plt.figure(0) # learning curves\n",
    "plt.ylabel('MSE')\n",
    "plt.xlabel('epochs')\n",
    "for i in range(10):\n",
    "    #with open(\"hw0_results_exp_10_hidden_20_8_2.pkl\", \"rb\") as fp:\n",
    "    with open(\"results/hw0_results_exp_0{:d}_hidden_20_8_2.pkl\".format(i), \"rb\") as fp:\n",
    "        history = pickle.load(fp)\n",
    "    plt.plot(history['loss']) # make a learning curve on figure 0\n",
    "    errors = np.append(errors, np.abs(history['pred'] - outs)) # add absolute errors to our histogram array\n",
    "\n",
    "plt.figure(1) # error histogram\n",
    "plt.hist(errors, 50)\n",
    "plt.ylim([0, 50])\n",
    "plt.ylabel('count')\n",
    "plt.xlabel('absolute error')\n",
    "plt.show()"
   ]
  },
  {
   "cell_type": "code",
   "execution_count": null,
   "id": "e6a415b5",
   "metadata": {},
   "outputs": [],
   "source": []
  }
 ],
 "metadata": {
  "kernelspec": {
   "display_name": "Python 3 (ipykernel)",
   "language": "python",
   "name": "python3"
  },
  "language_info": {
   "codemirror_mode": {
    "name": "ipython",
    "version": 3
   },
   "file_extension": ".py",
   "mimetype": "text/x-python",
   "name": "python",
   "nbconvert_exporter": "python",
   "pygments_lexer": "ipython3",
   "version": "3.9.16"
  },
  "vscode": {
   "interpreter": {
    "hash": "c6ab3c4b256b788e33801a6937b5f83ca9d18c4729f26f20d1ffca6f89eb6433"
   }
  }
 },
 "nbformat": 4,
 "nbformat_minor": 5
}
