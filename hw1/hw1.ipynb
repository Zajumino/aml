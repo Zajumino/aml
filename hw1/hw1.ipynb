{
 "cells": [
  {
   "attachments": {},
   "cell_type": "markdown",
   "id": "6009d4d9",
   "metadata": {},
   "source": [
    "## Part 1: Network\n",
    "Goal: predict arm state as a function of neural state"
   ]
  },
  {
   "cell_type": "code",
   "execution_count": 1,
   "id": "04c65c52",
   "metadata": {},
   "outputs": [],
   "source": [
    "from hw1 import *"
   ]
  },
  {
   "cell_type": "code",
   "execution_count": 2,
   "id": "6acb6eae",
   "metadata": {},
   "outputs": [
    {
     "name": "stdout",
     "output_type": "stream",
     "text": [
      "Params: Ntraining_2_rotation_0\n",
      "File name base: ./results/bmi_ddtheta_hidden_10_5_Ntraining_2_rotation_0\n"
     ]
    },
    {
     "name": "stderr",
     "output_type": "stream",
     "text": [
      "c:\\Users\\ikang\\anaconda3\\envs\\tf\\lib\\site-packages\\numpy\\core\\fromnumeric.py:43: VisibleDeprecationWarning: Creating an ndarray from ragged nested sequences (which is a list-or-tuple of lists-or-tuples-or ndarrays with different lengths or shapes) is deprecated. If you meant to do this, you must specify 'dtype=object' when creating the ndarray.\n",
      "  result = getattr(asarray(obj), method)(*args, **kwds)\n"
     ]
    },
    {
     "name": "stdout",
     "output_type": "stream",
     "text": [
      "72/72 [==============================] - 0s 2ms/step\n",
      "72/72 [==============================] - 0s 4ms/step - loss: 0.3469 - fvaf: 0.9894 - root_mean_squared_error: 0.5890\n",
      "44/44 [==============================] - 0s 3ms/step\n",
      "44/44 [==============================] - 0s 3ms/step - loss: 16.6834 - fvaf: 0.4532 - root_mean_squared_error: 4.0845\n",
      "41/41 [==============================] - 0s 2ms/step\n",
      "41/41 [==============================] - 0s 3ms/step - loss: 22.3207 - fvaf: 0.3361 - root_mean_squared_error: 4.7245\n",
      "INFO:tensorflow:Assets written to: ./results/bmi_ddtheta_hidden_10_5_Ntraining_2_rotation_0_model\\assets\n"
     ]
    },
    {
     "data": {
      "text/plain": [
       "<keras.engine.sequential.Sequential at 0x1b6db6b6560>"
      ]
     },
     "execution_count": 2,
     "metadata": {},
     "output_type": "execute_result"
    }
   ],
   "source": [
    "# run 1 experiment with default args\n",
    "execute_exp()"
   ]
  },
  {
   "attachments": {},
   "cell_type": "markdown",
   "id": "c939423c",
   "metadata": {},
   "source": [
    "load results"
   ]
  },
  {
   "cell_type": "code",
   "execution_count": 1,
   "id": "629830cf",
   "metadata": {},
   "outputs": [],
   "source": [
    "import os\n",
    "import fnmatch\n",
    "import pickle\n",
    "import matplotlib.pyplot as plt\n",
    "\n",
    "def read_all_rotations(dirname, filebase):\n",
    "    '''Read results from dirname from files matching filebase'''\n",
    "    \n",
    "    # The set of files in the directory\n",
    "    files = fnmatch.filter(os.listdir(dirname), filebase)\n",
    "    files.sort()\n",
    "    results = []\n",
    "    \n",
    "    # Loop over matching files\n",
    "    for f in files:\n",
    "        fp = open(\"%s/%s\"%(dirname,f), \"rb\")\n",
    "        r = pickle.load(fp)\n",
    "        fp.close()\n",
    "        results.append(r)\n",
    "    return results\n",
    "\n",
    "#filebase = \"bmi_torque_0_hidden_30_drop_0.50_ntrain_%02d_rot_*_results.pkl\"\n",
    "filebase = \"bmi_ddtheta_hidden_10_5_Ntraining_2_rotation_0_results.pkl\"\n",
    "results = read_all_rotations(\"results\", filebase)"
   ]
  },
  {
   "cell_type": "code",
   "execution_count": 2,
   "id": "1af25b21",
   "metadata": {},
   "outputs": [
    {
     "data": {
      "text/plain": [
       "Namespace(dataset='bmi_dataset2.pkl', output_type='ddtheta', predict_dim=None, Nfolds=20, activation_out=None, activation_hidden='elu', hidden=[10, 5], rotation=0, epochs=100, Ntraining=2, exp_type='bmi', exp_index=None, lrate=0.001, dropout=None, L1_regularization=None, L2_regularization=None, min_delta=0.0, patience=100, gpu=False, cpus_per_task=None, results_path='./results', verbose=0, nogo=False, check=False)"
      ]
     },
     "execution_count": 2,
     "metadata": {},
     "output_type": "execute_result"
    }
   ],
   "source": [
    "# what args did we use?\n",
    "results[0]['args']"
   ]
  },
  {
   "attachments": {},
   "cell_type": "markdown",
   "id": "73b8cc1c",
   "metadata": {
    "scrolled": false
   },
   "source": [
    "### FIGURE 1"
   ]
  },
  {
   "cell_type": "code",
   "execution_count": null,
   "id": "0428cfad",
   "metadata": {},
   "outputs": [],
   "source": [
    "plt.figure(figsize=(200, 6))\n",
    "plt.plot(results[0]['time_testing'], results[0]['outs_testing'][:,1], label='actual')\n",
    "plt.plot(results[0]['time_testing'], results[0]['predict_testing'][:,1], label='predict')\n",
    "plt.ylabel('acceleration (ddtheta)')\n",
    "plt.xlabel('time')\n",
    "plt.legend()"
   ]
  },
  {
   "attachments": {},
   "cell_type": "markdown",
   "id": "457dda5d",
   "metadata": {},
   "source": [
    "## Part 2: Multiple Runs\n",
    "Loads all of the stored results (rotations x training set sizes)\\\n",
    "Computes average training/validation/testing FVAF for each training fold size (average across the rotations)\\\n",
    "FIGURE 2: Generates a plot with three curves (one for each data set type): FVAF as a function of training set size"
   ]
  },
  {
   "cell_type": "code",
   "execution_count": 1,
   "id": "6e50ed88",
   "metadata": {},
   "outputs": [],
   "source": [
    "import os\n",
    "import fnmatch\n",
    "import pickle\n",
    "import numpy as np\n",
    "import matplotlib.pyplot as plt\n",
    "\n",
    "def read_all_rotations(dirname, filebase):\n",
    "    '''Read results from dirname from files matching filebase'''\n",
    "    \n",
    "    # The set of files in the directory\n",
    "    files = fnmatch.filter(os.listdir(dirname), filebase)\n",
    "    files.sort()\n",
    "    results = []\n",
    "    \n",
    "    # Loop over matching files\n",
    "    for f in files:\n",
    "        fp = open(\"%s/%s\"%(dirname,f), \"rb\")\n",
    "        r = pickle.load(fp)\n",
    "        fp.close()\n",
    "        results.append(r)\n",
    "    return results\n",
    "\n",
    "filebase = \"bmi_ddtheta_hidden_10_5_JI_Ntraining_*_rotation_*_results.pkl\"\n",
    "results = read_all_rotations(\"results\", filebase)"
   ]
  },
  {
   "cell_type": "code",
   "execution_count": 2,
   "id": "8c35c8cb",
   "metadata": {},
   "outputs": [
    {
     "name": "stdout",
     "output_type": "stream",
     "text": [
      "160\n"
     ]
    },
    {
     "data": {
      "text/plain": [
       "dict_keys(['args', 'predict_training', 'predict_training_eval', 'outs_training', 'time_training', 'predict_validation', 'predict_validation_eval', 'outs_validation', 'time_validation', 'predict_testing', 'predict_testing_eval', 'outs_testing', 'time_testing', 'folds', 'history', 'fname_base'])"
      ]
     },
     "execution_count": 2,
     "metadata": {},
     "output_type": "execute_result"
    }
   ],
   "source": [
    "print(len(results)) # should be 20*8 = 160 eventually\n",
    "results[159].keys()"
   ]
  },
  {
   "cell_type": "code",
   "execution_count": 3,
   "id": "4aa9f5bb",
   "metadata": {},
   "outputs": [],
   "source": [
    "results_array = np.ones([20,18,3]) # (rotations x training set sizes)\n",
    "for i in range(160):\n",
    "    r = results[i]['folds']['folds_training'][0]\n",
    "    tss = results[i]['folds']['folds_training'].size - 1\n",
    "    results_array[r,tss,0] = np.sum(results[i]['predict_training_eval'][1])/2\n",
    "    results_array[r,tss,1] = np.sum(results[i]['predict_validation_eval'][1])/2\n",
    "    results_array[r,tss,2] = np.sum(results[i]['predict_testing_eval'][1])/2\n",
    "results_array = np.delete(results_array, [5,6,7,9,10,11,13,14,15,16], axis=1) # delete unused columns"
   ]
  },
  {
   "cell_type": "code",
   "execution_count": 4,
   "id": "282bcae4",
   "metadata": {},
   "outputs": [
    {
     "name": "stdout",
     "output_type": "stream",
     "text": [
      "[[0.97791983 0.35463637 0.35415682]\n",
      " [0.96244336 0.36097929 0.3631497 ]\n",
      " [0.95303562 0.35007606 0.338788  ]\n",
      " [0.9381205  0.37001271 0.36229508]\n",
      " [0.92621214 0.39168655 0.40530238]\n",
      " [0.88719971 0.4672586  0.47917562]\n",
      " [0.86031299 0.56035737 0.56181702]\n",
      " [0.83779795 0.60517882 0.59389457]]\n"
     ]
    }
   ],
   "source": [
    "tss_plot_x = [1,2,3,4,5,9,13,18] # list of folds (for plotting)\n",
    "results_plot_y = np.sum(results_array,0)/20 # FVAF average across rotations\n",
    "print(results_plot_y)"
   ]
  },
  {
   "attachments": {},
   "cell_type": "markdown",
   "id": "f683cd93",
   "metadata": {},
   "source": [
    "### FIGURE 2"
   ]
  },
  {
   "cell_type": "code",
   "execution_count": 5,
   "id": "6f20d1cd",
   "metadata": {},
   "outputs": [
    {
     "data": {
      "text/plain": [
       "<matplotlib.legend.Legend at 0x19d6eafe320>"
      ]
     },
     "execution_count": 5,
     "metadata": {},
     "output_type": "execute_result"
    },
    {
     "data": {
      "image/png": "[encoded data removed]",
      "text/plain": [
       "<Figure size 640x480 with 1 Axes>"
      ]
     },
     "metadata": {},
     "output_type": "display_data"
    }
   ],
   "source": [
    "plt.figure()\n",
    "plt.plot(tss_plot_x, results_plot_y[:,0], label='train')\n",
    "plt.plot(tss_plot_x, results_plot_y[:,1], label='val')\n",
    "plt.plot(tss_plot_x, results_plot_y[:,2], label='test')\n",
    "plt.ylabel('fvaf')\n",
    "plt.xlabel('training set size (folds)')\n",
    "plt.legend()"
   ]
  },
  {
   "cell_type": "code",
   "execution_count": null,
   "id": "aa94c358",
   "metadata": {},
   "outputs": [],
   "source": []
  }
 ],
 "metadata": {
  "kernelspec": {
   "display_name": "tf",
   "language": "python",
   "name": "tf"
  },
  "language_info": {
   "codemirror_mode": {
    "name": "ipython",
    "version": 3
   },
   "file_extension": ".py",
   "mimetype": "text/x-python",
   "name": "python",
   "nbconvert_exporter": "python",
   "pygments_lexer": "ipython3",
   "version": "3.10.9"
  }
 },
 "nbformat": 4,
 "nbformat_minor": 5
}
